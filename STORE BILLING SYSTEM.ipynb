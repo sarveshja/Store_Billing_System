{
 "cells": [
  {
   "cell_type": "raw",
   "id": "5830d9d0",
   "metadata": {},
   "source": [
    "NAME: SARVESH J A\n",
    "    UNIQUE ID: E5221010"
   ]
  },
  {
   "cell_type": "code",
   "execution_count": 1,
   "id": "6659727c",
   "metadata": {},
   "outputs": [
    {
     "name": "stdout",
     "output_type": "stream",
     "text": [
      "CODE: 0 \tITEM: curd \tPrice: 20 \n",
      "\n",
      "CODE: 1 \tITEM: milk \tPrice: 30 \n",
      "\n",
      "CODE: 2 \tITEM: butter \tPrice: 40 \n",
      "\n",
      "CODE: 3 \tITEM: paneer \tPrice: 50 \n",
      "\n",
      "CODE: 4 \tITEM: cheese \tPrice: 60 \n",
      "\n",
      "Enter the code of the item you want:1\n",
      "Enter how much quantity do you want:8\n",
      "DO ypu want to buy any other item.1 for yes and 2 for no:1\n",
      "Enter the code of the item you want:2\n",
      "Enter how much quantity do you want:8\n",
      "DO ypu want to buy any other item.1 for yes and 2 for no:1\n",
      "Enter the code of the item you want:3\n",
      "Enter how much quantity do you want:8\n",
      "DO ypu want to buy any other item.1 for yes and 2 for no:2\n",
      "\t\tSRET Stores\n",
      "items\tquantity\tprice\n",
      "milk \t 8 \t\t 240\n",
      "butter \t 8 \t\t 320\n",
      "paneer \t 8 \t\t 400\n",
      "\t\t\t Total bill: 960\n",
      "\t\t\t Thank you\n",
      "\t\t\t Come again\n"
     ]
    }
   ],
   "source": [
    "code = [0,1,2,3,4]\n",
    "item = ['curd','milk','butter','paneer','cheese']\n",
    "price = [20,30,40,50,60]\n",
    "item_needed = []\n",
    "q = []\n",
    "Bill = []\n",
    "class store():\n",
    "    def goods(self):\n",
    "        for i in range(0,5):\n",
    "            print(\"CODE:\",code[i],\"\\tITEM:\",item[i],\"\\tPrice:\",price[i],\"\\n\")\n",
    "    def items_needed(self):\n",
    "        while(True):\n",
    "            items = int(input(\"Enter the code of the item you want:\"))\n",
    "            while(items>4):\n",
    "                print(\"Invalid input\")\n",
    "                items = int(input(\"Enter the code of the item you want:\"))\n",
    "            quantity = int(input(\"Enter how much quantity do you want:\"))\n",
    "            item_needed.append(item[items])\n",
    "            q.append(quantity)\n",
    "            Bill.append(price[items]*quantity)\n",
    "            ch = int(input(\"DO ypu want to buy any other item.1 for yes and 2 for no:\"))\n",
    "            if(ch==2):\n",
    "                break\n",
    "    \n",
    "    def bill(self):\n",
    "        print(\"\\t\\tSRET Stores\")\n",
    "        print(\"items\\tquantity\\tprice\")\n",
    "        for a in range(len(item_needed)):\n",
    "            print(item_needed[a],\"\\t\",q[a],\"\\t\\t\",Bill[a])\n",
    "        print(\"\\t\\t\\t Total bill:\",sum(Bill))\n",
    "        print(\"\\t\\t\\t Thank you\")\n",
    "        print(\"\\t\\t\\t Come again\")\n",
    "        \n",
    "        \n",
    "obj = store()\n",
    "obj.goods()\n",
    "obj.items_needed()\n",
    "obj.bill()\n"
   ]
  },
  {
   "cell_type": "code",
   "execution_count": null,
   "id": "2defa158",
   "metadata": {},
   "outputs": [],
   "source": []
  }
 ],
 "metadata": {
  "kernelspec": {
   "display_name": "Python 3 (ipykernel)",
   "language": "python",
   "name": "python3"
  },
  "language_info": {
   "codemirror_mode": {
    "name": "ipython",
    "version": 3
   },
   "file_extension": ".py",
   "mimetype": "text/x-python",
   "name": "python",
   "nbconvert_exporter": "python",
   "pygments_lexer": "ipython3",
   "version": "3.9.7"
  }
 },
 "nbformat": 4,
 "nbformat_minor": 5
}
